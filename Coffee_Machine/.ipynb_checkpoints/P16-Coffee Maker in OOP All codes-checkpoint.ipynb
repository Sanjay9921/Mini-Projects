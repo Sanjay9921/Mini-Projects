{
 "cells": [
  {
   "cell_type": "markdown",
   "metadata": {},
   "source": [
    "# All Codes"
   ]
  },
  {
   "cell_type": "markdown",
   "metadata": {},
   "source": [
    "## Program Requirements\n",
    "\n",
    "1. Print Report\n",
    "2. Check resources sufficiency\n",
    "3. Process Coins\n",
    "4. Check if the transactions are successfull\n",
    "5. Make Coffee"
   ]
  },
  {
   "cell_type": "markdown",
   "metadata": {},
   "source": [
    "## Packages "
   ]
  },
  {
   "cell_type": "markdown",
   "metadata": {},
   "source": [
    "### menu.py "
   ]
  },
  {
   "cell_type": "code",
   "execution_count": 1,
   "metadata": {},
   "outputs": [],
   "source": [
    "class MenuItem:\n",
    "    \"\"\"Models each menu item\"\"\"\n",
    "    \n",
    "    def __init__(self, item_name, water, milk, coffee, cost):\n",
    "        self.name = item_name\n",
    "        self.cost = cost\n",
    "        self.ingredients = {\n",
    "            \"water\": water,\n",
    "            \"milk\": milk,\n",
    "            \"coffee\": coffee\n",
    "        }"
   ]
  },
  {
   "cell_type": "code",
   "execution_count": 2,
   "metadata": {},
   "outputs": [],
   "source": [
    "class Menu:\n",
    "    \"\"\"Models the menu with drinks\"\"\"\n",
    "    \n",
    "    def __init__(self):\n",
    "        items = [\"latte\", \"espresso\", \"cappuccino\"]\n",
    "        wasser = [200, 50, 250] #water\n",
    "        milch = [150, 0, 50] #milk\n",
    "        kaffee = [24, 18, 24] #coffee\n",
    "        koste = [2.5, 1.5, 3]\n",
    "        \n",
    "        self.menu = []\n",
    "        \n",
    "        for i in range(len(items)):\n",
    "            menu_item = MenuItem(\n",
    "                item_name = items[i], \n",
    "                water = wasser[i], \n",
    "                milk = milch[i], \n",
    "                coffee = kaffee[i], \n",
    "                cost = koste[i])\n",
    "            \n",
    "            self.menu.append(menu_item)\n",
    "            \n",
    "    def get_items(self):\n",
    "        \"\"\"Returns all available menu items\"\"\"\n",
    "        options = \"\"\n",
    "        for item in self.menu:\n",
    "            options += f\"{item.name}/\"\n",
    "        return options\n",
    "    \n",
    "    def find_drink(self, order_name):\n",
    "        \"\"\"Searches menu for a particular drink. Returns item/None\"\"\"\n",
    "        \n",
    "        for item in self.menu:\n",
    "            if item.name == order_name:\n",
    "                return item\n",
    "        \n",
    "        print(\"Sorry that item is not available!\")"
   ]
  },
  {
   "cell_type": "markdown",
   "metadata": {},
   "source": [
    "### money_machine.py "
   ]
  },
  {
   "cell_type": "code",
   "execution_count": 3,
   "metadata": {},
   "outputs": [],
   "source": [
    "class MoneyMachine:\n",
    "    \n",
    "    #Global Var\n",
    "    CURRENCY = \"$\"\n",
    "    \n",
    "    COIN_VALUES = {\n",
    "        \"quarters\": 0.25,\n",
    "        \"dimes\": 0.10,\n",
    "        \"nickels\": 0.05,\n",
    "        \"pennies\": 0.01\n",
    "    }\n",
    "    \n",
    "    #No Block level indentation in Python!\n",
    "    def __init__(self):\n",
    "        self.profit = 0.0\n",
    "        self.money_received = 0.0\n",
    "    \n",
    "    def report(self):\n",
    "        \"\"\"Prints the report => current profit\"\"\"\n",
    "        print(f\"Money: {self.CURRENCY}{self.profit}\")\n",
    "        \n",
    "    def process_coins(self):\n",
    "        \"\"\"Returns total calculated from coins inserted\"\"\"\n",
    "        \n",
    "        print(\"Please insert coins...\")\n",
    "        \n",
    "        for coin in self.COIN_VALUES:\n",
    "            user_coin = int(input(f\"How many {coin}?: \"))\n",
    "            self.money_received += user_coin * self.COIN_VALUES[coin]\n",
    "        \n",
    "        return self.money_received\n",
    "    \n",
    "    def make_payment(self, cost):\n",
    "        \"\"\"Returns True if payment is accepted, else False\"\"\"\n",
    "        \n",
    "        self.process_coins()\n",
    "        if self.money_received >= cost:\n",
    "            change = round(self.money_received - cost, 2)\n",
    "            print(f\"Here is {self.CURRENCY}{change} in change.\")\n",
    "            self.profit += cost\n",
    "            self.money_received = 0\n",
    "            return True\n",
    "        else:\n",
    "            print(\"Sorry that is not enough money! Money is refunded...\")\n",
    "            self.money_received = 0\n",
    "            return False"
   ]
  },
  {
   "cell_type": "markdown",
   "metadata": {},
   "source": [
    "###  coffee_maker.py"
   ]
  },
  {
   "cell_type": "code",
   "execution_count": 5,
   "metadata": {},
   "outputs": [],
   "source": [
    "class CoffeeMaker:\n",
    "    \"\"\"Models the machine that makes the coffee\"\"\"\n",
    "    \n",
    "    def __init__(self):\n",
    "        self.resources = {\n",
    "            \"water\": 300,\n",
    "            \"milk\": 200,\n",
    "            \"coffee\": 100\n",
    "        }\n",
    "        \n",
    "    def report(self):\n",
    "        \"\"\"Prints a report of all resources\"\"\"\n",
    "        wasser = self.resources[\"water\"]\n",
    "        milch = self.resources[\"milk\"]\n",
    "        kaffee = self.resources[\"coffee\"]\n",
    "        \n",
    "        print(f\"{wasser}ml\")\n",
    "        print(f\"{milch}ml\")\n",
    "        print(f\"{kaffee}g\")\n",
    "        \n",
    "    def is_resource_sufficient(self, drink):\n",
    "        \"\"\"Returns True when order can be made if resources are sufficient, else False\"\"\"\n",
    "        can_make = True\n",
    "        for item in drink.ingredients:\n",
    "            if drink.ingredients[item] > self.resources[item]:\n",
    "                print(f\"Sorry there is not enough {item}.\")\n",
    "                can_make = False\n",
    "        return can_make\n",
    "    \n",
    "    def make_coffee(self, order):\n",
    "        \"\"\"Deducts the required ingredients from the resources.\"\"\"\n",
    "        for item in order.ingredients:\n",
    "            self.resources[item] -= order.ingredients[item]\n",
    "        print(f\"Here is your {order.name} ☕️. Enjoy!\")"
   ]
  },
  {
   "cell_type": "markdown",
   "metadata": {},
   "source": [
    "### main.py "
   ]
  },
  {
   "cell_type": "code",
   "execution_count": 7,
   "metadata": {},
   "outputs": [
    {
     "name": "stdout",
     "output_type": "stream",
     "text": [
      "What would you like? (latte/espresso/cappuccino/): latte\n",
      "Please insert coins...\n",
      "How many quarters?: 15\n",
      "How many dimes?: 15\n",
      "How many nickels?: 15\n",
      "How many pennies?: 15\n",
      "Here is $3.65 in change.\n",
      "Here is your latte ☕️. Enjoy!\n",
      "What would you like? (latte/espresso/cappuccino/): report\n",
      "100ml\n",
      "50ml\n",
      "76g\n",
      "Money: $2.5\n",
      "What would you like? (latte/espresso/cappuccino/): off\n"
     ]
    }
   ],
   "source": [
    "money_machine = MoneyMachine()\n",
    "coffee_maker = CoffeeMaker()\n",
    "menu = Menu()\n",
    "\n",
    "is_on = True\n",
    "\n",
    "while is_on:\n",
    "    options = menu.get_items()\n",
    "    choice = input(f\"What would you like? ({options}): \")\n",
    "    if choice == \"off\":\n",
    "        is_on = False\n",
    "    elif choice == \"report\":\n",
    "        coffee_maker.report()\n",
    "        money_machine.report()\n",
    "    else:\n",
    "        drink = menu.find_drink(choice)\n",
    "        \n",
    "        if coffee_maker.is_resource_sufficient(drink) and money_machine.make_payment(drink.cost):\n",
    "            coffee_maker.make_coffee(drink)"
   ]
  }
 ],
 "metadata": {
  "kernelspec": {
   "display_name": "Python 3",
   "language": "python",
   "name": "python3"
  },
  "language_info": {
   "codemirror_mode": {
    "name": "ipython",
    "version": 3
   },
   "file_extension": ".py",
   "mimetype": "text/x-python",
   "name": "python",
   "nbconvert_exporter": "python",
   "pygments_lexer": "ipython3",
   "version": "3.7.6"
  }
 },
 "nbformat": 4,
 "nbformat_minor": 4
}
