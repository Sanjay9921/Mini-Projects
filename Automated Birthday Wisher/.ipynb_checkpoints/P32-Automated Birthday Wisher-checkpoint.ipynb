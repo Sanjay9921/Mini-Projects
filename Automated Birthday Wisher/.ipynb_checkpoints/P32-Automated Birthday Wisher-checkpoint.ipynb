{
 "cells": [
  {
   "cell_type": "code",
   "execution_count": 3,
   "id": "0d4ca75b",
   "metadata": {},
   "outputs": [],
   "source": [
    "import datetime as dt\n",
    "import smtplib\n",
    "import random\n",
    "import pandas as pd"
   ]
  },
  {
   "cell_type": "code",
   "execution_count": 4,
   "id": "cf71e779",
   "metadata": {},
   "outputs": [],
   "source": [
    "#Constants\n",
    "email_id = \"\"\n",
    "email_pswd = \"\"\n",
    "today = dt.datetime.now()\n",
    "today_tuple = (today.month, today.day)"
   ]
  },
  {
   "cell_type": "code",
   "execution_count": 5,
   "id": "c22e5d56",
   "metadata": {},
   "outputs": [],
   "source": [
    " data = pd.read_csv(\"birthdays.csv\")"
   ]
  },
  {
   "cell_type": "code",
   "execution_count": 9,
   "id": "c01b1445",
   "metadata": {},
   "outputs": [],
   "source": [
    "birthdays_dict = {\n",
    "    (data_row[\"month\"], data_row[\"day\"]):data_row for (i,data_row) in data.iterrows()\n",
    "}"
   ]
  },
  {
   "cell_type": "code",
   "execution_count": 10,
   "id": "7375a648",
   "metadata": {},
   "outputs": [
    {
     "data": {
      "text/plain": [
       "{(10,\n",
       "  6): name     Patrick Bateman\n",
       " email      abc@gmail.com\n",
       " year                1962\n",
       " month                 10\n",
       " day                    6\n",
       " Name: 0, dtype: object,\n",
       " (1,\n",
       "  19): name         Lou Bloom\n",
       " email    abc@gmail.com\n",
       " year              1980\n",
       " month                1\n",
       " day                 19\n",
       " Name: 1, dtype: object}"
      ]
     },
     "execution_count": 10,
     "metadata": {},
     "output_type": "execute_result"
    }
   ],
   "source": [
    "birthdays_dict"
   ]
  },
  {
   "cell_type": "code",
   "execution_count": 12,
   "id": "1156b028",
   "metadata": {},
   "outputs": [],
   "source": [
    "if today_tuple in birthdays_dict:\n",
    "    birthday_person = birthdays_dict[today_tuple]\n",
    "    file_path = f\"letter_{random.randint(1,3)}.txt\"\n",
    "    with open(file_path) as letter_file:\n",
    "        contents = letter_file.read()\n",
    "        contents = contents.replace(\"[NAME]\", birthday_person[\"name\"])\n",
    "        \n",
    "    message = f\"Subject: Happy Birthday!\\n\\n{contents}\"\n",
    "    \n",
    "    with smtplib.SMTP(\"outlook.office365.com\", port=587) as conn:\n",
    "        conn.starttls()\n",
    "        conn.login(user=email_id, password=email_pswd)\n",
    "        conn.sendmail(\n",
    "            from_addr = email_id, \n",
    "            to_addrs = [birthday_person[\"email\"]],\n",
    "            msg = message)"
   ]
  }
 ],
 "metadata": {
  "kernelspec": {
   "display_name": "Python 3 (ipykernel)",
   "language": "python",
   "name": "python3"
  },
  "language_info": {
   "codemirror_mode": {
    "name": "ipython",
    "version": 3
   },
   "file_extension": ".py",
   "mimetype": "text/x-python",
   "name": "python",
   "nbconvert_exporter": "python",
   "pygments_lexer": "ipython3",
   "version": "3.9.13"
  }
 },
 "nbformat": 4,
 "nbformat_minor": 5
}
