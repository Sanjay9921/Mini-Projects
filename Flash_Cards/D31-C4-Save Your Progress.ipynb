{
 "cells": [
  {
   "cell_type": "markdown",
   "id": "6cf1dc10",
   "metadata": {},
   "source": [
    "# Hint "
   ]
  },
  {
   "cell_type": "markdown",
   "id": "a55aa2bd",
   "metadata": {},
   "source": [
    "1. When the user presses on the ✅ button, it means that they know the current word on the flashcard and that word should be removed from the list of words that might come up.\n",
    "\n",
    "e.g. If french_words.csv had only 3 records:\n",
    "\n",
    "`\n",
    "    chaque,each\n",
    "    parlé,speak\n",
    "    arrivé,come\n",
    "`\n",
    "\n",
    "After the user has seen parlé,speak  it should be removed from the list of words that can come up again.\n",
    "\n",
    "2. The updated data should be saved to a new file called words_to_learn.csv\n",
    "\n",
    "e.g. words_to_learn.csv\n",
    "\n",
    "`\n",
    "    chaque,each\n",
    "    arrivé,come\n",
    "`\n",
    "\n",
    "3. The next time the program is run, it should check if there is a words_to_learn.csv file. If it exists, the program should use those words to put on the flashcards. If the words_to_learn.csv does not exist (i.e., the first time the program is run), then it should use the words in the french_words.csv\n",
    "\n",
    "We want our flashcard program to only test us on things we don't know. So if the user presses the ✅ button, that means the current card should not come up again.\n",
    "\n",
    "4. The remove() method can remove elements from a list. e.g. https://www.w3schools.com/python/ref_list_remove.asp\n",
    "\n",
    "5. You can create a new csv file from a dictionary using DataFrame.to_csv() e.g. https://pandas.pydata.org/pandas-docs/stable/reference/api/pandas.DataFrame.to_csv.html\n",
    "\n",
    "6. If you don't want to create an index for the new csv, you can set the index parameter to False. e.g.\n",
    "\n",
    "`data.to_csv(\"filename.csv\", index=False)`"
   ]
  },
  {
   "cell_type": "markdown",
   "id": "c9458b3d",
   "metadata": {},
   "source": [
    "### main.py "
   ]
  },
  {
   "cell_type": "code",
   "execution_count": 2,
   "id": "c0258919",
   "metadata": {},
   "outputs": [],
   "source": [
    "import tkinter\n",
    "from tkinter import *\n",
    "from tkinter import messagebox\n",
    "import pandas as pd\n",
    "import random"
   ]
  },
  {
   "cell_type": "code",
   "execution_count": 3,
   "id": "59ef42f1",
   "metadata": {},
   "outputs": [],
   "source": [
    "#Constants\n",
    "BACKGROUND_COLOR = \"#B1DDC6\"\n",
    "SET_FONT1 = (\"Arial\", 40, \"italic\")\n",
    "SET_FONT2 = (\"Arial\", 60, \"bold\")\n",
    "current_card = {}\n",
    "to_learn = {}"
   ]
  },
  {
   "cell_type": "code",
   "execution_count": 4,
   "id": "0eff4d28",
   "metadata": {},
   "outputs": [],
   "source": [
    "try:\n",
    "    data = pd.read_csv(\"data/words_to_learn.csv\")\n",
    "except FileNotFoundError:\n",
    "    original_data = pd.read_csv(\"data/french_words.csv\")\n",
    "    to_learn = original_data.to_dict(orient=\"records\")\n",
    "else:\n",
    "    to_learn = data.to_dict(orient=\"records\")"
   ]
  },
  {
   "cell_type": "code",
   "execution_count": 5,
   "id": "164f1f78",
   "metadata": {},
   "outputs": [],
   "source": [
    "#Function\n",
    "#Next Card for Known & Unknown Button\n",
    "\n",
    "def next_card():\n",
    "    global current_card, flip_timer\n",
    "    window.after_cancel(flip_timer)\n",
    "    current_card = random.choice(to_learn)\n",
    "    canvas.itemconfig(card_title, text=\"French\", fill=\"black\")\n",
    "    canvas.itemconfig(card_word, text=current_card[\"French\"], fill=\"black\")\n",
    "    canvas.itemconfig(card_background, image=card_front_img)\n",
    "    flip_timer = window.after(3000, func=flip_card) #3000 ms ~ 3s"
   ]
  },
  {
   "cell_type": "code",
   "execution_count": 6,
   "id": "a6c5c10c",
   "metadata": {},
   "outputs": [],
   "source": [
    "#Function\n",
    "#Flip cards to show english translation of the current card\n",
    "\n",
    "def flip_card():\n",
    "    canvas.itemconfig(card_title, text=\"English\", fill=\"white\")\n",
    "    canvas.itemconfig(card_word, text=current_card[\"English\"], fill=\"white\")\n",
    "    canvas.itemconfig(card_background, image=card_back_img)\n",
    "    "
   ]
  },
  {
   "cell_type": "code",
   "execution_count": 7,
   "id": "0662680c",
   "metadata": {},
   "outputs": [],
   "source": [
    "#Function\n",
    "#Known Button\n",
    "def is_known():\n",
    "    to_learn.remove(current_card)\n",
    "    data = pd.DataFrame(to_learn)\n",
    "    data.to_csv(\"data/words_to_learn.csv\", index=False)\n",
    "    next_card()"
   ]
  },
  {
   "cell_type": "code",
   "execution_count": 8,
   "id": "750d15b4",
   "metadata": {},
   "outputs": [],
   "source": [
    "#UI\n",
    "\n",
    "window = Tk()\n",
    "window.title(\"Flash Card App\")\n",
    "window.config(padx=50, pady=50, bg=BACKGROUND_COLOR)\n",
    "\n",
    "flip_timer = window.after(3000, func=flip_card) #3000 ms ~ 3s\n",
    "\n",
    "#Canvas Widget\n",
    "canvas = Canvas(width=800, height=526)\n",
    "card_front_img = PhotoImage(file=\"images/card_front.png\")\n",
    "card_back_img = PhotoImage(file=\"images/card_back.png\")\n",
    "card_background = canvas.create_image(480, 263, image=card_front_img)\n",
    "card_title = canvas.create_text(400, 150, text=\"Title\", font=SET_FONT1)\n",
    "card_word = canvas.create_text(400, 263, text=\"word\", font=SET_FONT2)\n",
    "canvas.config(bg=BACKGROUND_COLOR, highlightthickness=0)\n",
    "canvas.grid(row=0, column=0, columnspan=2)\n",
    "\n",
    "#Button Widget\n",
    "cross_image = PhotoImage(file=\"images/wrong.png\")\n",
    "unknown_button = Button(image=cross_image, highlightthickness=0, command=next_card)\n",
    "unknown_button.grid(row=1, column=0)\n",
    "\n",
    "check_image = PhotoImage(file=\"images/right.png\")\n",
    "known_button = Button(image=check_image, highlightthickness=0, command=is_known)\n",
    "known_button.grid(row=1, column=1)\n",
    "\n",
    "next_card()\n",
    "\n",
    "window.mainloop()"
   ]
  },
  {
   "attachments": {
    "image.png": {
     "image/png": "[encoded data removed]"
    }
   },
   "cell_type": "markdown",
   "id": "d2833e1a",
   "metadata": {},
   "source": [
    "![image.png](attachment:image.png)"
   ]
  }
 ],
 "metadata": {
  "kernelspec": {
   "display_name": "Python 3 (ipykernel)",
   "language": "python",
   "name": "python3"
  },
  "language_info": {
   "codemirror_mode": {
    "name": "ipython",
    "version": 3
   },
   "file_extension": ".py",
   "mimetype": "text/x-python",
   "name": "python",
   "nbconvert_exporter": "python",
   "pygments_lexer": "ipython3",
   "version": "3.9.13"
  }
 },
 "nbformat": 4,
 "nbformat_minor": 5
}
